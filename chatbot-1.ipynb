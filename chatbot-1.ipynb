{
 "cells": [
  {
   "cell_type": "code",
   "execution_count": 92,
   "id": "d6697619",
   "metadata": {},
   "outputs": [],
   "source": [
    "from typing import Annotated\n",
    "\n",
    "from typing_extensions import TypedDict\n",
    "\n",
    "from langgraph.graph import StateGraph, START\n",
    "from langgraph.graph.message import add_messages\n"
   ]
  },
  {
   "cell_type": "markdown",
   "id": "7755bdba",
   "metadata": {},
   "source": [
    "### Create a StateGraph"
   ]
  },
  {
   "cell_type": "markdown",
   "id": "5a65d1ff",
   "metadata": {},
   "source": [
    "'''\n",
    "What is StateGraph?\n",
    "\n",
    "At its core, StateGraph allows you to define your application as a graph where:\n",
    "\n",
    "Nodes: These are the workhorses. Each node is a function or a LangChain Runnable (like an LLM call, a tool invocation, or a custom piece of logic). When the graph \"visits\" a node, that function gets executed.\n",
    "\n",
    "Edges: These define how the application flows from one node to another. Critically, these transitions can be conditional, meaning the next step can be decided based on the output of the current node or the overall state.\n",
    "\n",
    "State: This is the central, evolving piece of information that is passed between nodes. Each node can read from and write to this state. The state could be anything – a chat history, a dictionary of accumulated results, a plan, etc. It's how your application \"remembers\" things across different steps.\n",
    "'''"
   ]
  },
  {
   "cell_type": "code",
   "execution_count": 93,
   "id": "2e8d8a93",
   "metadata": {},
   "outputs": [],
   "source": [
    "class State(TypedDict):\n",
    "    # Messages have the type list. The `add_messages` function\n",
    "    # in the annotation defines how this state key should be updated\n",
    "    # (in this case, it appends messages to the list, rather than overwriting them)\n",
    "    messages: Annotated[list, add_messages]\n",
    "\n",
    "graph_builder = StateGraph(State)"
   ]
  },
  {
   "cell_type": "markdown",
   "id": "d11a4b91",
   "metadata": {},
   "source": [
    "###  Add a node"
   ]
  },
  {
   "cell_type": "code",
   "execution_count": 94,
   "id": "9491a035",
   "metadata": {},
   "outputs": [
    {
     "name": "stdout",
     "output_type": "stream",
     "text": [
      "Google API Key Loaded: True\n"
     ]
    }
   ],
   "source": [
    "import os\n",
    "from dotenv import load_dotenv\n",
    "\n",
    "load_dotenv()  # load environment variables from .env\n",
    "\n",
    "# --- Environment Variable Checks ---\n",
    "google_api_key_loaded = os.getenv(\"GOOGLE_API_KEY\") is not None\n",
    "\n",
    "print(f\"Google API Key Loaded: {google_api_key_loaded}\")"
   ]
  },
  {
   "cell_type": "code",
   "execution_count": 95,
   "id": "5269a9c5",
   "metadata": {},
   "outputs": [
    {
     "name": "stdout",
     "output_type": "stream",
     "text": [
      "content='Hello there! How can I help you today?' additional_kwargs={} response_metadata={'prompt_feedback': {'block_reason': 0, 'safety_ratings': []}, 'finish_reason': 'STOP', 'model_name': 'gemini-2.0-flash', 'safety_ratings': []} id='run--f635d22f-eac9-44e6-b8b1-2b5c08101313-0' usage_metadata={'input_tokens': 4, 'output_tokens': 11, 'total_tokens': 15, 'input_token_details': {'cache_read': 0}}\n"
     ]
    }
   ],
   "source": [
    "from langchain.chat_models import init_chat_model\n",
    "llm = init_chat_model(\"gemini-2.0-flash\", \n",
    "                        model_provider=\"google_genai\",\n",
    "                        temperature=0)\n",
    "# model = init_chat_model(gemini-1.5-flash, model_provider=google_genai)\n",
    "\n",
    "response = llm.invoke(\"Hello, world!\")\n",
    "print(response)"
   ]
  },
  {
   "cell_type": "code",
   "execution_count": 96,
   "id": "553eae09",
   "metadata": {},
   "outputs": [
    {
     "data": {
      "text/plain": [
       "<langgraph.graph.state.StateGraph at 0x24691ee9450>"
      ]
     },
     "execution_count": 96,
     "metadata": {},
     "output_type": "execute_result"
    }
   ],
   "source": [
    "def chatbot(state: State):\n",
    "    return {\"messages\": [llm.invoke(state[\"messages\"])]}\n",
    "\n",
    "\n",
    "# The first argument is the unique node name\n",
    "# The second argument is the function or object that will be called whenever\n",
    "# the node is used.\n",
    "graph_builder.add_node(\"chatbot\", chatbot)"
   ]
  },
  {
   "cell_type": "code",
   "execution_count": 97,
   "id": "95930b79",
   "metadata": {},
   "outputs": [
    {
     "data": {
      "text/plain": [
       "<langgraph.graph.state.StateGraph at 0x24691ee9450>"
      ]
     },
     "execution_count": 97,
     "metadata": {},
     "output_type": "execute_result"
    }
   ],
   "source": [
    "graph_builder.add_edge(START, \"chatbot\")"
   ]
  },
  {
   "cell_type": "code",
   "execution_count": 98,
   "id": "20c0daf9",
   "metadata": {},
   "outputs": [],
   "source": [
    "graph = graph_builder.compile()"
   ]
  },
  {
   "cell_type": "code",
   "execution_count": 99,
   "id": "ef268309",
   "metadata": {},
   "outputs": [
    {
     "data": {
      "image/png": "[encoded data removed]",
      "text/plain": [
       "<IPython.core.display.Image object>"
      ]
     },
     "metadata": {},
     "output_type": "display_data"
    }
   ],
   "source": [
    "from IPython.display import Image, display\n",
    "\n",
    "try:\n",
    "    display(Image(graph.get_graph().draw_mermaid_png()))\n",
    "except Exception:\n",
    "    # This requires some extra dependencies and is optional\n",
    "    pass"
   ]
  },
  {
   "cell_type": "code",
   "execution_count": 100,
   "id": "4b02a369",
   "metadata": {},
   "outputs": [
    {
     "name": "stdout",
     "output_type": "stream",
     "text": [
      "User:hello\n",
      "Assistant: Hello! How can I help you today?\n",
      "User:what is capitalof indai\n",
      "Assistant: The capital of India is **New Delhi**.\n",
      "User:q\n",
      "Goodbye!\n"
     ]
    }
   ],
   "source": [
    "def stream_graph_updates(user_input: str):\n",
    "    for event in graph.stream({\"messages\": [{\"role\": \"user\", \"content\": user_input}]}):\n",
    "        for value in event.values():\n",
    "            print(\"Assistant:\", value[\"messages\"][-1].content)\n",
    "\n",
    "\n",
    "while True:\n",
    "    try:\n",
    "        user_input = input(\"User:\" )\n",
    "        print(\"User:\"  + user_input)\n",
    "        if user_input.lower() in [\"quit\", \"exit\", \"q\"]:\n",
    "            print(\"Goodbye!\")\n",
    "            break\n",
    "        stream_graph_updates(user_input)\n",
    "    except:\n",
    "        # fallback if input() is not available\n",
    "        user_input = \"What do you know about LangGraph?\"\n",
    "        print(\"User:\"  + user_input)\n",
    "        stream_graph_updates(user_input)\n",
    "        break"
   ]
  },
  {
   "cell_type": "markdown",
   "id": "8a8a5496",
   "metadata": {},
   "source": [
    "### Tool calling"
   ]
  },
  {
   "cell_type": "code",
   "execution_count": 41,
   "id": "b6e84ee5",
   "metadata": {},
   "outputs": [
    {
     "name": "stdout",
     "output_type": "stream",
     "text": [
      "['Dominos', 'Pizza Hut', \"Luigi's Pizzeria\"]\n"
     ]
    }
   ],
   "source": [
    "restaurants_data = {\n",
    "        \"Pizza\": [\"Dominos\", \"Pizza Hut\", \"Luigi's Pizzeria\"],\n",
    "        \"Burger\": [\"McDonald's\", \"Burger King\", \"Shake Shack\"],\n",
    "        \"Sushi\": [\"obu\", \"Sushi Samba\", \"Kura Sushi\"],\n",
    "        \"Pasta\": [\"Olive Garden\", \"Carrabba's\", \"Maggiano's\"],\n",
    "        \"Salad\": [\"Sweetgreen\", \"Chopt\", \"Saladworks\"],\n",
    "        \"Ice Cream\": [\"Baskin Robbins\", \"Ben & Jerry's\", \"Cold Stone Creamery\"]\n",
    "}\n",
    "\n",
    "print(restaurants_data[\"Pizza\"])"
   ]
  },
  {
   "cell_type": "code",
   "execution_count": 42,
   "id": "afda6c66",
   "metadata": {},
   "outputs": [],
   "source": [
    "from langchain_core.tools import tool\n",
    "\n",
    "@tool\n",
    "def restaurant_search_tool(dish_name: str) -> str:\n",
    "    \"\"\"Searches for restaurants serving the given dish and returns a list of restaurants or a message if not found.\"\"\"\n",
    "    print(f\"--- Tool: restaurant_search_tool called with dish: {dish_name} ---\")\n",
    "    # Simple case-insensitive search for the dish key\n",
    "    found_restaurants = []\n",
    "    for key_dish, restaurants_list in restaurants_data.items():\n",
    "        if dish_name.lower() in key_dish.lower():\n",
    "            found_restaurants.extend(restaurants_list)\n",
    "    \n",
    "    if found_restaurants:\n",
    "        # Remove duplicates if a dish name matches multiple keys (e.g. if data had 'Pizza' and 'Gourmet Pizza')\n",
    "        unique_restaurants = sorted(list(set(found_restaurants)))\n",
    "        return f\"The dish '{dish_name}' is available at: {', '.join(unique_restaurants)}.\"\n",
    "    else:\n",
    "        return f\"Sorry, I couldn't find any restaurants serving '{dish_name}'.\""
   ]
  },
  {
   "cell_type": "code",
   "execution_count": 45,
   "id": "0b4ee71c",
   "metadata": {},
   "outputs": [],
   "source": [
    "class State(TypedDict):\n",
    "    messages: Annotated[list, add_messages]\n",
    "\n",
    "graph_builder = StateGraph(State)\n",
    "\n",
    "# 2. Bind the tool to the LLM\n",
    "# Ensure 'llm' is defined from the previous cell\n",
    "llm_with_tools = llm.bind_tools([restaurant_search_tool])"
   ]
  },
  {
   "cell_type": "code",
   "execution_count": 46,
   "id": "d0560bbc",
   "metadata": {},
   "outputs": [
    {
     "data": {
      "text/plain": [
       "<langgraph.graph.state.StateGraph at 0x2469148f6d0>"
      ]
     },
     "execution_count": 46,
     "metadata": {},
     "output_type": "execute_result"
    }
   ],
   "source": [
    "def chatbot(state: State):\n",
    "    return {\"messages\": [llm_with_tools.invoke(state[\"messages\"])]}\n",
    "\n",
    "graph_builder.add_node(\"chatbot\", chatbot)"
   ]
  },
  {
   "cell_type": "code",
   "execution_count": 47,
   "id": "741876b7",
   "metadata": {},
   "outputs": [],
   "source": [
    "from langgraph.prebuilt import ToolNode\n",
    "tool_node = ToolNode(tools=[restaurant_search_tool])"
   ]
  },
  {
   "cell_type": "code",
   "execution_count": 48,
   "id": "0baace68",
   "metadata": {},
   "outputs": [
    {
     "data": {
      "text/plain": [
       "<langgraph.graph.state.StateGraph at 0x2469148f6d0>"
      ]
     },
     "execution_count": 48,
     "metadata": {},
     "output_type": "execute_result"
    }
   ],
   "source": [
    "graph_builder.add_node(\"tools\", tool_node)"
   ]
  },
  {
   "cell_type": "code",
   "execution_count": 49,
   "id": "4f30a95c",
   "metadata": {},
   "outputs": [],
   "source": [
    "from langgraph.graph import StateGraph, START, END\n",
    "\n",
    "\n",
    "def route_tools(\n",
    "    state: State,\n",
    "):\n",
    "    \"\"\"\n",
    "    Use in the conditional_edge to route to the ToolNode if the last message\n",
    "    has tool calls. Otherwise, route to the end.\n",
    "    \"\"\"\n",
    "    if isinstance(state, list):\n",
    "        ai_message = state[-1]\n",
    "    elif messages := state.get(\"messages\", []):\n",
    "        ai_message = messages[-1]\n",
    "    else:\n",
    "        raise ValueError(f\"No messages found in input state to tool_edge: {state}\")\n",
    "    if hasattr(ai_message, \"tool_calls\") and len(ai_message.tool_calls) > 0:\n",
    "        return \"tools\"\n",
    "    return END\n",
    "\n",
    "\n",
    "# The `tools_condition` function returns \"tools\" if the chatbot asks to use a tool, and \"END\" if\n",
    "# it is fine directly responding. This conditional routing defines the main agent loop.\n",
    "graph_builder.add_conditional_edges(\n",
    "    \"chatbot\",\n",
    "    route_tools,\n",
    "    # The following dictionary lets you tell the graph to interpret the condition's outputs as a specific node\n",
    "    # It defaults to the identity function, but if you\n",
    "    # want to use a node named something else apart from \"tools\",\n",
    "    # You can update the value of the dictionary to something else\n",
    "    # e.g., \"tools\": \"my_tools\"\n",
    "    {\"tools\": \"tools\", END: END},\n",
    ")\n",
    "# Any time a tool is called, we return to the chatbot to decide the next step\n",
    "graph_builder.add_edge(\"tools\", \"chatbot\")\n",
    "graph_builder.add_edge(START, \"chatbot\")\n",
    "graph = graph_builder.compile()"
   ]
  },
  {
   "cell_type": "code",
   "execution_count": 50,
   "id": "287c67af",
   "metadata": {},
   "outputs": [
    {
     "data": {
      "image/png": "[encoded data removed]",
      "text/plain": [
       "<IPython.core.display.Image object>"
      ]
     },
     "metadata": {},
     "output_type": "display_data"
    }
   ],
   "source": [
    "from IPython.display import Image, display\n",
    "\n",
    "try:\n",
    "    display(Image(graph.get_graph().draw_mermaid_png()))\n",
    "except Exception:\n",
    "    # This requires some extra dependencies and is optional\n",
    "    pass"
   ]
  },
  {
   "cell_type": "code",
   "execution_count": 51,
   "id": "d88f224b",
   "metadata": {},
   "outputs": [
    {
     "name": "stdout",
     "output_type": "stream",
     "text": [
      "User: hello\n",
      "Assistant: Hello! How can I help you today?\n",
      "User: I want to order pizza\n",
      "Assistant: \n",
      "--- Tool: restaurant_search_tool called with dish: pizza ---\n",
      "Assistant: The dish 'pizza' is available at: Dominos, Luigi's Pizzeria, Pizza Hut.\n",
      "Assistant: OK. I see that pizza is available at Dominos, Luigi's Pizzeria, and Pizza Hut.\n",
      "User: order me the pizza\n",
      "Assistant: I cannot order food for you. I can search for restaurants that serve pizza. Would you like me to do that?\n",
      "User: q\n",
      "Goodbye!\n"
     ]
    }
   ],
   "source": [
    "def stream_graph_updates(user_input: str):\n",
    "    for event in graph.stream({\"messages\": [{\"role\": \"user\", \"content\": user_input}]}):\n",
    "        for value in event.values():\n",
    "            print(\"Assistant:\", value[\"messages\"][-1].content)\n",
    "\n",
    "while True:\n",
    "    try:\n",
    "        user_input = input(\"User: \")\n",
    "        print(\"User:\", user_input)\n",
    "        \n",
    "        if user_input.lower() in [\"quit\", \"exit\", \"q\"]:\n",
    "            print(\"Goodbye!\")\n",
    "            break\n",
    "\n",
    "        stream_graph_updates(user_input)\n",
    "    except:\n",
    "        # fallback if input() is not available\n",
    "        user_input = \"What do you know about LangGraph?\"\n",
    "        print(\"User: \" + user_input)\n",
    "        stream_graph_updates(user_input)\n",
    "        break"
   ]
  },
  {
   "cell_type": "markdown",
   "id": "63d514c1",
   "metadata": {},
   "source": [
    "### Using 2 Tools"
   ]
  },
  {
   "cell_type": "code",
   "execution_count": 64,
   "id": "b1273a77",
   "metadata": {},
   "outputs": [
    {
     "name": "stdout",
     "output_type": "stream",
     "text": [
      "Google API Key Loaded: True\n",
      "LangSmith Tracing Loaded: true\n"
     ]
    }
   ],
   "source": [
    "import os\n",
    "from dotenv import load_dotenv\n",
    "\n",
    "load_dotenv()  # load environment variables from .env\n",
    "\n",
    "# --- Environment Variable Checks ---\n",
    "google_api_key_loaded = os.getenv(\"GOOGLE_API_KEY\") is not None\n",
    "LANGSMITH_TRACING_LOADED = os.getenv(\"LANGSMITH_TRACING\")\n",
    "\n",
    "print(f\"Google API Key Loaded: {google_api_key_loaded}\")\n",
    "print(f\"LangSmith Tracing Loaded: {LANGSMITH_TRACING_LOADED}\")"
   ]
  },
  {
   "cell_type": "code",
   "execution_count": 65,
   "id": "fabe0fee",
   "metadata": {},
   "outputs": [
    {
     "name": "stdout",
     "output_type": "stream",
     "text": [
      "content='Hello there! How can I help you today?' additional_kwargs={} response_metadata={'prompt_feedback': {'block_reason': 0, 'safety_ratings': []}, 'finish_reason': 'STOP', 'model_name': 'gemini-2.0-flash', 'safety_ratings': []} id='run--fc5e72bd-f21e-4b9b-89de-4aa63c7eafdd-0' usage_metadata={'input_tokens': 4, 'output_tokens': 11, 'total_tokens': 15, 'input_token_details': {'cache_read': 0}}\n"
     ]
    }
   ],
   "source": [
    "from langchain.chat_models import init_chat_model\n",
    "llm = init_chat_model(\"gemini-2.0-flash\", \n",
    "                        model_provider=\"google_genai\",\n",
    "                        temperature=0)\n",
    "# model = init_chat_model(gemini-1.5-flash, model_provider=google_genai)\n",
    "\n",
    "response = llm.invoke(\"Hello, world!\")\n",
    "print(response)"
   ]
  },
  {
   "cell_type": "code",
   "execution_count": 66,
   "id": "62abe1e9",
   "metadata": {},
   "outputs": [
    {
     "name": "stdout",
     "output_type": "stream",
     "text": [
      "['Dominos', 'Pizza Hut', \"Luigi's Pizzeria\"]\n"
     ]
    }
   ],
   "source": [
    "restaurants_data = {\n",
    "        \"Pizza\": [\"Dominos\", \"Pizza Hut\", \"Luigi's Pizzeria\"],\n",
    "        \"Burger\": [\"McDonald's\", \"Burger King\", \"Shake Shack\"],\n",
    "        \"Sushi\": [\"obu\", \"Sushi Samba\", \"Kura Sushi\"],\n",
    "        \"Pasta\": [\"Olive Garden\", \"Carrabba's\", \"Maggiano's\"],\n",
    "        \"Salad\": [\"Sweetgreen\", \"Chopt\", \"Saladworks\"],\n",
    "        \"Ice Cream\": [\"Baskin Robbins\", \"Ben & Jerry's\", \"Cold Stone Creamery\"]\n",
    "}\n",
    "\n",
    "print(restaurants_data[\"Pizza\"])"
   ]
  },
  {
   "cell_type": "code",
   "execution_count": 67,
   "id": "8af6bc8e",
   "metadata": {},
   "outputs": [],
   "source": [
    "from langchain_core.tools import tool\n",
    "\n",
    "@tool\n",
    "def restaurant_search_tool(dish_name: str) -> str:\n",
    "    \"\"\"Searches for restaurants serving the given dish and returns a list of restaurants or a message if not found.\"\"\"\n",
    "    print(f\"--- Tool: restaurant_search_tool called with dish: {dish_name} ---\")\n",
    "    # Simple case-insensitive search for the dish key\n",
    "    found_restaurants = []\n",
    "    for key_dish, restaurants_list in restaurants_data.items():\n",
    "        if dish_name.lower() in key_dish.lower():\n",
    "            found_restaurants.extend(restaurants_list)\n",
    "    \n",
    "    if found_restaurants:\n",
    "        # Remove duplicates if a dish name matches multiple keys (e.g. if data had 'Pizza' and 'Gourmet Pizza')\n",
    "        unique_restaurants = sorted(list(set(found_restaurants)))\n",
    "        return f\"The dish '{dish_name}' is available at: {', '.join(unique_restaurants)}.\"\n",
    "    else:\n",
    "        return f\"Sorry, I couldn't find any restaurants serving '{dish_name}'.\""
   ]
  },
  {
   "cell_type": "code",
   "execution_count": 68,
   "id": "1cb9ce80",
   "metadata": {},
   "outputs": [],
   "source": [
    "import requests\n",
    "\n",
    "@tool\n",
    "def get_order_details_from_api(restaurant_name: str, dish_name: str) -> dict:\n",
    "    \"\"\"\n",
    "    Calls the restaurant order API and returns the order details.\n",
    "\n",
    "    Args:\n",
    "        restaurant_name: The name of the restaurant.\n",
    "        dish_name: The name of the dish ordered.\n",
    "\n",
    "    Returns:\n",
    "        A dictionary containing the order details, or None if an error occurs.\n",
    "    \"\"\"\n",
    "    print(f\"--- Tool: get_order_details_from_api called with restaurant_name: {restaurant_name} and dish_name: {dish_name}---\")\n",
    "    url = f\"http://127.0.0.1:8000/orders/{restaurant_name}\"\n",
    "    params = {\"dish_name\": dish_name}\n",
    "\n",
    "    try:\n",
    "        response = requests.get(url, params=params)\n",
    "        response.raise_for_status()  # Raise HTTPError for bad responses (4xx or 5xx)\n",
    "        return response.json()\n",
    "    except requests.exceptions.RequestException as e:\n",
    "        print(f\"Error calling the API: {e}\")\n",
    "        if response.status_code == 404:\n",
    "            print(f\"Restaurant or dish not found: {response.json().get('detail', 'Unknown error')}\")\n",
    "        return None"
   ]
  },
  {
   "cell_type": "code",
   "execution_count": 69,
   "id": "c78132ac",
   "metadata": {},
   "outputs": [],
   "source": [
    "# Adding a Human-in-the-loop tool\n",
    "\n",
    "from langgraph.types import interrupt\n",
    "\n",
    "@tool\n",
    "def human_assistance(query: str) -> str:\n",
    "    \"\"\"Request assistance from a human.\"\"\"\n",
    "    print(f\"--- Tool: human_assistance called with query: {query} ---\")\n",
    "    human_response = interrupt({\"query\": query})\n",
    "    if human_response[\"data\"]:\n",
    "        return human_response[\"data\"]\n",
    "    else:\n",
    "        return \"Assistance requested but no input received.\""
   ]
  },
  {
   "cell_type": "code",
   "execution_count": 70,
   "id": "78ffafdf",
   "metadata": {},
   "outputs": [],
   "source": [
    "from typing_extensions import TypedDict\n",
    "from typing import Annotated\n",
    "from langgraph.graph.message import add_messages\n",
    "from langgraph.graph import StateGraph\n",
    "\n",
    "class State(TypedDict):\n",
    "    messages: Annotated[list, add_messages]\n",
    "\n",
    "graph_builder = StateGraph(State)\n",
    "\n",
    "# 2. Bind the tool to the LLM\n",
    "# Ensure 'llm' is defined from the previous cell\n",
    "\n",
    "tools_list = [restaurant_search_tool, \n",
    "              get_order_details_from_api, \n",
    "              human_assistance]\n",
    "llm_with_tools = llm.bind_tools(tools_list)"
   ]
  },
  {
   "cell_type": "code",
   "execution_count": 71,
   "id": "852592e1",
   "metadata": {},
   "outputs": [
    {
     "data": {
      "text/plain": [
       "<langgraph.graph.state.StateGraph at 0x24691d596f0>"
      ]
     },
     "execution_count": 71,
     "metadata": {},
     "output_type": "execute_result"
    }
   ],
   "source": [
    "def chatbot(state: State):\n",
    "    return {\"messages\": [llm_with_tools.invoke(state[\"messages\"])]}\n",
    "\n",
    "graph_builder.add_node(\"chatbot\", chatbot)"
   ]
  },
  {
   "cell_type": "code",
   "execution_count": 72,
   "id": "ae777f22",
   "metadata": {},
   "outputs": [],
   "source": [
    "from langgraph.prebuilt import ToolNode\n",
    "\n",
    "tool_node = ToolNode(tools=tools_list)"
   ]
  },
  {
   "cell_type": "code",
   "execution_count": 73,
   "id": "09516d18",
   "metadata": {},
   "outputs": [
    {
     "data": {
      "text/plain": [
       "<langgraph.graph.state.StateGraph at 0x24691d596f0>"
      ]
     },
     "execution_count": 73,
     "metadata": {},
     "output_type": "execute_result"
    }
   ],
   "source": [
    "graph_builder.add_node(\"tools\", tool_node)"
   ]
  },
  {
   "cell_type": "code",
   "execution_count": 74,
   "id": "0db23e5b",
   "metadata": {},
   "outputs": [],
   "source": [
    "from langgraph.graph import START, END\n",
    "\n",
    "\n",
    "def route_tools(\n",
    "    state: State,\n",
    "):\n",
    "    \"\"\"\n",
    "    Use in the conditional_edge to route to the ToolNode if the last message\n",
    "    has tool calls. Otherwise, route to the end.\n",
    "    \"\"\"\n",
    "    if isinstance(state, list):\n",
    "        ai_message = state[-1]\n",
    "    elif messages := state.get(\"messages\", []):\n",
    "        ai_message = messages[-1]\n",
    "    else:\n",
    "        raise ValueError(f\"No messages found in input state to tool_edge: {state}\")\n",
    "    if hasattr(ai_message, \"tool_calls\") and len(ai_message.tool_calls) > 0:\n",
    "        return \"tools\"\n",
    "    return END\n",
    "\n",
    "\n",
    "# The `tools_condition` function returns \"tools\" if the chatbot asks to use a tool, and \"END\" if\n",
    "# it is fine directly responding. This conditional routing defines the main agent loop.\n",
    "graph_builder.add_conditional_edges(\n",
    "    \"chatbot\",\n",
    "    route_tools,\n",
    "    # The following dictionary lets you tell the graph to interpret the condition's outputs as a specific node\n",
    "    # It defaults to the identity function, but if you\n",
    "    # want to use a node named something else apart from \"tools\",\n",
    "    # You can update the value of the dictionary to something else\n",
    "    # e.g., \"tools\": \"my_tools\"\n",
    "    {\"tools\": \"tools\", END: END},\n",
    ")\n",
    "# Any time a tool is called, we return to the chatbot to decide the next step\n",
    "graph_builder.add_edge(\"tools\", \"chatbot\")\n",
    "graph_builder.add_edge(START, \"chatbot\")\n",
    "graph = graph_builder.compile()"
   ]
  },
  {
   "cell_type": "code",
   "execution_count": 75,
   "id": "f1a601d0",
   "metadata": {},
   "outputs": [
    {
     "data": {
      "image/png": "[encoded data removed]",
      "text/plain": [
       "<IPython.core.display.Image object>"
      ]
     },
     "metadata": {},
     "output_type": "display_data"
    }
   ],
   "source": [
    "from IPython.display import Image, display\n",
    "\n",
    "try:\n",
    "    display(Image(graph.get_graph().draw_mermaid_png()))\n",
    "except Exception:\n",
    "    # This requires some extra dependencies and is optional\n",
    "    pass"
   ]
  },
  {
   "cell_type": "code",
   "execution_count": 79,
   "id": "0a04af69",
   "metadata": {},
   "outputs": [
    {
     "name": "stdout",
     "output_type": "stream",
     "text": [
      "User: hello\n",
      "Assistant: Hello! How can I help you today?\n",
      "User: I want to eat pizza\n",
      "Assistant: \n",
      "--- Tool: restaurant_search_tool called with dish: pizza ---\n",
      "Assistant: The dish 'pizza' is available at: Dominos, Luigi's Pizzeria, Pizza Hut.\n",
      "Assistant: OK. pizza is available at Dominos, Luigi's Pizzeria, and Pizza Hut. Which restaurant would you like to order from?\n",
      "User: Order pizza from Dominos\n",
      "Assistant: \n",
      "--- Tool: get_order_details_from_api called with restaurant_name: Dominos and dish_name: pizza---\n",
      "Assistant: {\"order_id\": \"375f9514-7637-4ab4-bd4a-fa1295e74976\", \"restaurant_name\": \"Dominos\", \"items\": [\"pizza\"], \"total_amount\": 12.62, \"currency\": \"USD\", \"ordered_at\": \"2025-05-20T16:25:12.480713\", \"estimated_arrival_time\": \"2025-05-20T16:47:12.480713\", \"payment_mode\": \"Cash on Delivery\", \"status\": \"Order Placed\", \"delivery_address\": \"123 Main St, Anytown, USA\", \"customer_notes\": null}\n",
      "Assistant: OK. I have placed an order for pizza from Dominos. The order details are:  Order ID: 375f9514-7637-4ab4-bd4a-fa1295e74976, items: ['pizza'], total amount: 12.62 USD, delivery address: 123 Main St, Anytown, USA, estimated arrival time: 2025-05-20T16:47:12.480713, payment mode: Cash on Delivery.\n",
      "User: q\n",
      "Goodbye!\n"
     ]
    }
   ],
   "source": [
    "def stream_graph_updates(user_input: str):\n",
    "    for event in graph.stream({\"messages\": [{\"role\": \"user\", \"content\": user_input}]}):\n",
    "        for value in event.values():\n",
    "            print(\"Assistant:\", value[\"messages\"][-1].content)\n",
    "\n",
    "while True:\n",
    "    try:\n",
    "        user_input = input(\"User: \")\n",
    "        print(\"User:\", user_input)\n",
    "        \n",
    "        if user_input.lower() in [\"quit\", \"exit\", \"q\"]:\n",
    "            print(\"Goodbye!\")\n",
    "            break\n",
    "\n",
    "        stream_graph_updates(user_input)\n",
    "    except:\n",
    "        # fallback if input() is not available\n",
    "        user_input = \"What do you know about LangGraph?\"\n",
    "        print(\"User: \" + user_input)\n",
    "        stream_graph_updates(user_input)\n",
    "        break"
   ]
  },
  {
   "cell_type": "markdown",
   "id": "e13c7bca",
   "metadata": {},
   "source": [
    "### Adding Memory"
   ]
  },
  {
   "cell_type": "code",
   "execution_count": 81,
   "id": "fc82e7d8",
   "metadata": {},
   "outputs": [],
   "source": [
    "from langgraph.checkpoint.memory import MemorySaver\n",
    "\n",
    "memory = MemorySaver()\n",
    "\n",
    "# This is in-memory checkpointer, which is convenient for the tutorial. However, in a production application, you would likely change this to use SqliteSaver or PostgresSaver and connect a database."
   ]
  },
  {
   "cell_type": "code",
   "execution_count": 82,
   "id": "1fb71dc9",
   "metadata": {},
   "outputs": [],
   "source": [
    "graph = graph_builder.compile(checkpointer=memory)"
   ]
  },
  {
   "cell_type": "code",
   "execution_count": 83,
   "id": "bf3de02f",
   "metadata": {},
   "outputs": [
    {
     "data": {
      "image/png": "[encoded data removed]",
      "text/plain": [
       "<IPython.core.display.Image object>"
      ]
     },
     "metadata": {},
     "output_type": "display_data"
    }
   ],
   "source": [
    "from IPython.display import Image, display\n",
    "\n",
    "try:\n",
    "    display(Image(graph.get_graph().draw_mermaid_png()))\n",
    "except Exception:\n",
    "    # This requires some extra dependencies and is optional\n",
    "    pass"
   ]
  },
  {
   "cell_type": "code",
   "execution_count": 84,
   "id": "75353649",
   "metadata": {},
   "outputs": [],
   "source": [
    "config = {\"configurable\": {\"thread_id\": \"1\"}}"
   ]
  },
  {
   "cell_type": "code",
   "execution_count": 85,
   "id": "feb7db4e",
   "metadata": {},
   "outputs": [
    {
     "name": "stdout",
     "output_type": "stream",
     "text": [
      "User: hello\n",
      "Assistant: Hello! How can I help you today?\n",
      "User: i want to eat pizza\n",
      "Assistant: \n",
      "--- Tool: restaurant_search_tool called with dish: pizza ---\n",
      "Assistant: The dish 'pizza' is available at: Dominos, Luigi's Pizzeria, Pizza Hut.\n",
      "Assistant: OK. I found pizza at Dominos, Luigi's Pizzeria, and Pizza Hut. Which restaurant would you like to order from?\n",
      "User: Order from Dominos\n",
      "Assistant: \n",
      "--- Tool: get_order_details_from_api called with restaurant_name: Dominos and dish_name: pizza---\n",
      "Assistant: {\"order_id\": \"9d1f9bb2-5130-43ad-b08f-60c9f32cd42d\", \"restaurant_name\": \"Dominos\", \"items\": [\"pizza\"], \"total_amount\": 12.54, \"currency\": \"USD\", \"ordered_at\": \"2025-05-20T16:28:20.718249\", \"estimated_arrival_time\": \"2025-05-20T17:17:20.718249\", \"payment_mode\": \"Debit Card\", \"status\": \"Delivered\", \"delivery_address\": \"123 Main St, Anytown, USA\", \"customer_notes\": \"Call upon arrival.\"}\n",
      "Assistant: OK. I have an order from Dominos for pizza. The order details are:\n",
      "*   Order ID: 9d1f9bb2-5130-43ad-b08f-60c9f32cd42d\n",
      "*   Restaurant: Dominos\n",
      "*   Items: pizza\n",
      "*   Total Amount: $12.54\n",
      "*   Payment Mode: Debit Card\n",
      "*   Delivery Address: 123 Main St, Anytown, USA\n",
      "*   Customer Notes: Call upon arrival.\n",
      "*   Estimated Arrival Time: 2025-05-20T17:17:20.718249\n",
      "*   Order Status: Delivered\n",
      "\n",
      "Is that correct?\n",
      "User: q\n",
      "Goodbye!\n"
     ]
    }
   ],
   "source": [
    "def stream_graph_updates(user_input: str):\n",
    "    for event in graph.stream({\"messages\": [{\"role\": \"user\", \"content\": user_input}]},\n",
    "                              config,):\n",
    "        for value in event.values():\n",
    "            print(\"Assistant:\", value[\"messages\"][-1].content)\n",
    "\n",
    "while True:\n",
    "    try:\n",
    "        user_input = input(\"User: \")\n",
    "        print(\"User:\", user_input)\n",
    "        \n",
    "        if user_input.lower() in [\"quit\", \"exit\", \"q\"]:\n",
    "            print(\"Goodbye!\")\n",
    "            break\n",
    "\n",
    "        stream_graph_updates(user_input)\n",
    "    except:\n",
    "        # fallback if input() is not available\n",
    "        user_input = \"What do you know about LangGraph?\"\n",
    "        print(\"User: \" + user_input)\n",
    "        stream_graph_updates(user_input)\n",
    "        break"
   ]
  },
  {
   "cell_type": "code",
   "execution_count": 86,
   "id": "42e149c1",
   "metadata": {},
   "outputs": [
    {
     "name": "stdout",
     "output_type": "stream",
     "text": [
      "================================\u001b[1m Human Message \u001b[0m=================================\n",
      "\n",
      "I need some expert guidance for building an AI agent. Could you request assistance for me?\n",
      "==================================\u001b[1m Ai Message \u001b[0m==================================\n",
      "Tool Calls:\n",
      "  human_assistance (511f51e5-6c0a-4fb2-bf6a-74d7ec2dbd5d)\n",
      " Call ID: 511f51e5-6c0a-4fb2-bf6a-74d7ec2dbd5d\n",
      "  Args:\n",
      "    query: I need some expert guidance for building an AI agent.\n",
      "--- Tool: human_assistance called with query: I need some expert guidance for building an AI agent. ---\n"
     ]
    }
   ],
   "source": [
    "user_input = \"I need some expert guidance for building an AI agent. Could you request assistance for me?\"\n",
    "config = {\"configurable\": {\"thread_id\": \"1\"}}\n",
    "\n",
    "events = graph.stream(\n",
    "    {\"messages\": [{\"role\": \"user\", \"content\": user_input}]},\n",
    "    config,\n",
    "    stream_mode=\"values\",\n",
    ")\n",
    "for event in events:\n",
    "    if \"messages\" in event:\n",
    "        event[\"messages\"][-1].pretty_print()"
   ]
  },
  {
   "cell_type": "markdown",
   "id": "8a09eeeb",
   "metadata": {},
   "source": [
    "#### Check the state"
   ]
  },
  {
   "cell_type": "code",
   "execution_count": 87,
   "id": "d39bd93b",
   "metadata": {},
   "outputs": [
    {
     "data": {
      "text/plain": [
       "StateSnapshot(values={'messages': [HumanMessage(content='hello', additional_kwargs={}, response_metadata={}, id='8e5a4a01-cc99-4621-89da-b7300f26d13b'), AIMessage(content='Hello! How can I help you today?', additional_kwargs={}, response_metadata={'prompt_feedback': {'block_reason': 0, 'safety_ratings': []}, 'finish_reason': 'STOP', 'model_name': 'gemini-2.0-flash', 'safety_ratings': []}, id='run--31d728f1-cc11-42f4-9a49-ae1aa83be217-0', usage_metadata={'input_tokens': 130, 'output_tokens': 10, 'total_tokens': 140, 'input_token_details': {'cache_read': 0}}), HumanMessage(content='i want to eat pizza', additional_kwargs={}, response_metadata={}, id='ba8dda58-8168-43f9-8650-ef42bbb3114a'), AIMessage(content='', additional_kwargs={'function_call': {'name': 'restaurant_search_tool', 'arguments': '{\"dish_name\": \"pizza\"}'}}, response_metadata={'prompt_feedback': {'block_reason': 0, 'safety_ratings': []}, 'finish_reason': 'STOP', 'model_name': 'gemini-2.0-flash', 'safety_ratings': []}, id='run--c771ffc8-6654-4320-a5b4-b7d40ff64058-0', tool_calls=[{'name': 'restaurant_search_tool', 'args': {'dish_name': 'pizza'}, 'id': '225bf95c-aec8-4133-920a-c24820edbb68', 'type': 'tool_call'}], usage_metadata={'input_tokens': 144, 'output_tokens': 9, 'total_tokens': 153, 'input_token_details': {'cache_read': 0}}), ToolMessage(content=\"The dish 'pizza' is available at: Dominos, Luigi's Pizzeria, Pizza Hut.\", name='restaurant_search_tool', id='2fd15866-3fc6-4891-9f56-20908d825163', tool_call_id='225bf95c-aec8-4133-920a-c24820edbb68'), AIMessage(content=\"OK. I found pizza at Dominos, Luigi's Pizzeria, and Pizza Hut. Which restaurant would you like to order from?\", additional_kwargs={}, response_metadata={'prompt_feedback': {'block_reason': 0, 'safety_ratings': []}, 'finish_reason': 'STOP', 'model_name': 'gemini-2.0-flash', 'safety_ratings': []}, id='run--cd873c03-3295-4906-815d-6147f1c3d44e-0', usage_metadata={'input_tokens': 179, 'output_tokens': 27, 'total_tokens': 206, 'input_token_details': {'cache_read': 0}}), HumanMessage(content='Order from Dominos', additional_kwargs={}, response_metadata={}, id='adf4141f-6573-4c94-919e-fd7a84d4121b'), AIMessage(content='', additional_kwargs={'function_call': {'name': 'get_order_details_from_api', 'arguments': '{\"dish_name\": \"pizza\", \"restaurant_name\": \"Dominos\"}'}}, response_metadata={'prompt_feedback': {'block_reason': 0, 'safety_ratings': []}, 'finish_reason': 'STOP', 'model_name': 'gemini-2.0-flash', 'safety_ratings': []}, id='run--53bbc392-1063-4e9d-a7f6-1c0a2965d8a0-0', tool_calls=[{'name': 'get_order_details_from_api', 'args': {'dish_name': 'pizza', 'restaurant_name': 'Dominos'}, 'id': 'da214ad8-dc50-4453-bbbc-de7f50bd162c', 'type': 'tool_call'}], usage_metadata={'input_tokens': 210, 'output_tokens': 18, 'total_tokens': 228, 'input_token_details': {'cache_read': 0}}), ToolMessage(content='{\"order_id\": \"9d1f9bb2-5130-43ad-b08f-60c9f32cd42d\", \"restaurant_name\": \"Dominos\", \"items\": [\"pizza\"], \"total_amount\": 12.54, \"currency\": \"USD\", \"ordered_at\": \"2025-05-20T16:28:20.718249\", \"estimated_arrival_time\": \"2025-05-20T17:17:20.718249\", \"payment_mode\": \"Debit Card\", \"status\": \"Delivered\", \"delivery_address\": \"123 Main St, Anytown, USA\", \"customer_notes\": \"Call upon arrival.\"}', name='get_order_details_from_api', id='86eb70d9-2627-4072-a4d7-2d261403e2cc', tool_call_id='da214ad8-dc50-4453-bbbc-de7f50bd162c'), AIMessage(content='OK. I have an order from Dominos for pizza. The order details are:\\n*   Order ID: 9d1f9bb2-5130-43ad-b08f-60c9f32cd42d\\n*   Restaurant: Dominos\\n*   Items: pizza\\n*   Total Amount: $12.54\\n*   Payment Mode: Debit Card\\n*   Delivery Address: 123 Main St, Anytown, USA\\n*   Customer Notes: Call upon arrival.\\n*   Estimated Arrival Time: 2025-05-20T17:17:20.718249\\n*   Order Status: Delivered\\n\\nIs that correct?', additional_kwargs={}, response_metadata={'prompt_feedback': {'block_reason': 0, 'safety_ratings': []}, 'finish_reason': 'STOP', 'model_name': 'gemini-2.0-flash', 'safety_ratings': []}, id='run--a2b1fb85-3c99-4c0d-b0be-8de1a7a33601-0', usage_metadata={'input_tokens': 373, 'output_tokens': 163, 'total_tokens': 536, 'input_token_details': {'cache_read': 0}}), HumanMessage(content='I need some expert guidance for building an AI agent. Could you request assistance for me?', additional_kwargs={}, response_metadata={}, id='8d1d0593-bceb-42a8-ab4b-07399a97c350'), AIMessage(content='', additional_kwargs={'function_call': {'name': 'human_assistance', 'arguments': '{\"query\": \"I need some expert guidance for building an AI agent.\"}'}}, response_metadata={'prompt_feedback': {'block_reason': 0, 'safety_ratings': []}, 'finish_reason': 'STOP', 'model_name': 'gemini-2.0-flash', 'safety_ratings': []}, id='run--1ae0a63a-a38f-416f-bf17-c917ed76c55d-0', tool_calls=[{'name': 'human_assistance', 'args': {'query': 'I need some expert guidance for building an AI agent.'}, 'id': '511f51e5-6c0a-4fb2-bf6a-74d7ec2dbd5d', 'type': 'tool_call'}], usage_metadata={'input_tokens': 554, 'output_tokens': 15, 'total_tokens': 569, 'input_token_details': {'cache_read': 0}})]}, next=('tools',), config={'configurable': {'thread_id': '1', 'checkpoint_ns': '', 'checkpoint_id': '1f035696-6d66-6f61-800e-fba9ac747d8d'}}, metadata={'source': 'loop', 'writes': {'chatbot': {'messages': [AIMessage(content='', additional_kwargs={'function_call': {'name': 'human_assistance', 'arguments': '{\"query\": \"I need some expert guidance for building an AI agent.\"}'}}, response_metadata={'prompt_feedback': {'block_reason': 0, 'safety_ratings': []}, 'finish_reason': 'STOP', 'model_name': 'gemini-2.0-flash', 'safety_ratings': []}, id='run--1ae0a63a-a38f-416f-bf17-c917ed76c55d-0', tool_calls=[{'name': 'human_assistance', 'args': {'query': 'I need some expert guidance for building an AI agent.'}, 'id': '511f51e5-6c0a-4fb2-bf6a-74d7ec2dbd5d', 'type': 'tool_call'}], usage_metadata={'input_tokens': 554, 'output_tokens': 15, 'total_tokens': 569, 'input_token_details': {'cache_read': 0}})]}}, 'step': 14, 'parents': {}, 'thread_id': '1'}, created_at='2025-05-20T10:58:46.165283+00:00', parent_config={'configurable': {'thread_id': '1', 'checkpoint_ns': '', 'checkpoint_id': '1f035696-65ac-6de5-800d-6fc0347fc88d'}}, tasks=(PregelTask(id='b985f940-35c7-6874-9b15-bb74cf7a26ff', name='tools', path=('__pregel_pull', 'tools'), error=None, interrupts=(Interrupt(value={'query': 'I need some expert guidance for building an AI agent.'}, resumable=True, ns=['tools:b985f940-35c7-6874-9b15-bb74cf7a26ff']),), state=None, result=None),), interrupts=(Interrupt(value={'query': 'I need some expert guidance for building an AI agent.'}, resumable=True, ns=['tools:b985f940-35c7-6874-9b15-bb74cf7a26ff']),))"
      ]
     },
     "execution_count": 87,
     "metadata": {},
     "output_type": "execute_result"
    }
   ],
   "source": [
    "snapshot = graph.get_state(config)\n",
    "snapshot"
   ]
  },
  {
   "cell_type": "code",
   "execution_count": 88,
   "id": "de1db9a3",
   "metadata": {},
   "outputs": [
    {
     "data": {
      "text/plain": [
       "('tools',)"
      ]
     },
     "execution_count": 88,
     "metadata": {},
     "output_type": "execute_result"
    }
   ],
   "source": [
    "snapshot.next  \n",
    "# (since the graph ended this turn, `next` is empty. If you fetch a state from within a graph invocation, next tells which node will execute next)"
   ]
  },
  {
   "cell_type": "code",
   "execution_count": 89,
   "id": "613ec5bc",
   "metadata": {},
   "outputs": [
    {
     "name": "stdout",
     "output_type": "stream",
     "text": [
      "==================================\u001b[1m Ai Message \u001b[0m==================================\n",
      "Tool Calls:\n",
      "  human_assistance (511f51e5-6c0a-4fb2-bf6a-74d7ec2dbd5d)\n",
      " Call ID: 511f51e5-6c0a-4fb2-bf6a-74d7ec2dbd5d\n",
      "  Args:\n",
      "    query: I need some expert guidance for building an AI agent.\n",
      "--- Tool: human_assistance called with query: I need some expert guidance for building an AI agent. ---\n",
      "=================================\u001b[1m Tool Message \u001b[0m=================================\n",
      "Name: human_assistance\n",
      "\n",
      "We, the experts are here to help! We'd recommend you check out LangGraph to build your agent. It's much more reliable and extensible than simple autonomous agents.\n",
      "==================================\u001b[1m Ai Message \u001b[0m==================================\n",
      "\n",
      "OK. The experts recommend that you check out LangGraph to build your agent. They say it's much more reliable and extensible than simple autonomous agents.\n"
     ]
    }
   ],
   "source": [
    "# Resume execution\n",
    "\n",
    "from langgraph.types import Command\n",
    "\n",
    "human_response = (\n",
    "    \"We, the experts are here to help! We'd recommend you check out LangGraph to build your agent.\"\n",
    "    \" It's much more reliable and extensible than simple autonomous agents.\"\n",
    ")\n",
    "\n",
    "human_command = Command(resume={\"data\": human_response})\n",
    "\n",
    "events = graph.stream(human_command, config, stream_mode=\"values\")\n",
    "for event in events:\n",
    "    if \"messages\" in event:\n",
    "        event[\"messages\"][-1].pretty_print()"
   ]
  }
 ],
 "metadata": {
  "kernelspec": {
   "display_name": "venv_agent_1",
   "language": "python",
   "name": "python3"
  },
  "language_info": {
   "codemirror_mode": {
    "name": "ipython",
    "version": 3
   },
   "file_extension": ".py",
   "mimetype": "text/x-python",
   "name": "python",
   "nbconvert_exporter": "python",
   "pygments_lexer": "ipython3",
   "version": "3.10.0"
  }
 },
 "nbformat": 4,
 "nbformat_minor": 5
}
