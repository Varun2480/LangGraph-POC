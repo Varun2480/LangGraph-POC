{
 "cells": [
  {
   "cell_type": "code",
   "execution_count": 23,
   "id": "d6697619",
   "metadata": {},
   "outputs": [],
   "source": [
    "from typing import Annotated\n",
    "\n",
    "from typing_extensions import TypedDict\n",
    "\n",
    "from langgraph.graph import StateGraph, START\n",
    "from langgraph.graph.message import add_messages\n"
   ]
  },
  {
   "cell_type": "markdown",
   "id": "7755bdba",
   "metadata": {},
   "source": [
    "### Create a StateGraph"
   ]
  },
  {
   "cell_type": "code",
   "execution_count": null,
   "id": "2e8d8a93",
   "metadata": {},
   "outputs": [],
   "source": [
    "class State(TypedDict):\n",
    "    # Messages have the type list. The `add_messages` function\n",
    "    # in the annotation defines how this state key should be updated\n",
    "    # (in this case, it appends messages to the list, rather than overwriting them)\n",
    "    messages: Annotated[list, add_messages]\n",
    "\n",
    "graph_builder = StateGraph(State)"
   ]
  },
  {
   "cell_type": "markdown",
   "id": "d11a4b91",
   "metadata": {},
   "source": [
    "###  Add a node"
   ]
  },
  {
   "cell_type": "code",
   "execution_count": null,
   "id": "9491a035",
   "metadata": {},
   "outputs": [
    {
     "name": "stdout",
     "output_type": "stream",
     "text": [
      "Google API Key Loaded: True\n"
     ]
    }
   ],
   "source": [
    "import os\n",
    "from dotenv import load_dotenv\n",
    "\n",
    "load_dotenv()  # load environment variables from .env\n",
    "\n",
    "# --- Environment Variable Checks ---\n",
    "google_api_key_loaded = os.getenv(GOOGLE_API_KEY) is not None\n",
    "\n",
    "print(fGoogle API Key Loaded: {google_api_key_loaded})"
   ]
  },
  {
   "cell_type": "code",
   "execution_count": null,
   "id": "5269a9c5",
   "metadata": {},
   "outputs": [
    {
     "name": "stdout",
     "output_type": "stream",
     "text": [
      "content='Hello there! How can I help you today?' additional_kwargs={} response_metadata={'prompt_feedback': {'block_reason': 0, 'safety_ratings': []}, 'finish_reason': 'STOP', 'model_name': 'gemini-2.0-flash', 'safety_ratings': []} id='run--d26af9da-4197-4531-80a8-aadf93850e58-0' usage_metadata={'input_tokens': 4, 'output_tokens': 11, 'total_tokens': 15, 'input_token_details': {'cache_read': 0}}\n"
     ]
    }
   ],
   "source": [
    "from langchain.chat_models import init_chat_model\n",
    "llm = init_chat_model(gemini-2.0-flash, \n",
    "                        model_provider=google_genai,\n",
    "                        temperature=0)\n",
    "# model = init_chat_model(gemini-1.5-flash, model_provider=google_genai)\n",
    "\n",
    "response = llm.invoke(Hello, world!)\n",
    "print(response)"
   ]
  },
  {
   "cell_type": "code",
   "execution_count": null,
   "id": "553eae09",
   "metadata": {},
   "outputs": [
    {
     "data": {
      "text/plain": [
       "<langgraph.graph.state.StateGraph at 0x1c8c8be34f0>"
      ]
     },
     "execution_count": 5,
     "metadata": {},
     "output_type": "execute_result"
    }
   ],
   "source": [
    "def chatbot(state: State):\n",
    "    return {messages: [llm.invoke(state[messages])]}\n",
    "\n",
    "\n",
    "# The first argument is the unique node name\n",
    "# The second argument is the function or object that will be called whenever\n",
    "# the node is used.\n",
    "graph_builder.add_node(chatbot, chatbot)"
   ]
  },
  {
   "cell_type": "code",
   "execution_count": null,
   "id": "95930b79",
   "metadata": {},
   "outputs": [
    {
     "data": {
      "text/plain": [
       "<langgraph.graph.state.StateGraph at 0x1c8c8be34f0>"
      ]
     },
     "execution_count": 6,
     "metadata": {},
     "output_type": "execute_result"
    }
   ],
   "source": [
    "graph_builder.add_edge(START, chatbot)"
   ]
  },
  {
   "cell_type": "code",
   "execution_count": 7,
   "id": "20c0daf9",
   "metadata": {},
   "outputs": [],
   "source": [
    "graph = graph_builder.compile()"
   ]
  },
  {
   "cell_type": "code",
   "execution_count": 8,
   "id": "ef268309",
   "metadata": {},
   "outputs": [
    {
     "data": {
      "image/png": "[encoded data removed]",
      "text/plain": [
       "<IPython.core.display.Image object>"
      ]
     },
     "metadata": {},
     "output_type": "display_data"
    }
   ],
   "source": [
    "from IPython.display import Image, display\n",
    "\n",
    "try:\n",
    "    display(Image(graph.get_graph().draw_mermaid_png()))\n",
    "except Exception:\n",
    "    # This requires some extra dependencies and is optional\n",
    "    pass"
   ]
  },
  {
   "cell_type": "code",
   "execution_count": null,
   "id": "4b02a369",
   "metadata": {},
   "outputs": [
    {
     "name": "stdout",
     "output_type": "stream",
     "text": [
      "Assistant: Hello! How can I help you today?\n",
      "Assistant: LLM Framework\n",
      "Goodbye!\n"
     ]
    }
   ],
   "source": [
    "def stream_graph_updates(user_input: str):\n",
    "    for event in graph.stream({messages: [{role: user, content: user_input}]}):\n",
    "        for value in event.values():\n",
    "            print(Assistant:, value[messages][-1].content)\n",
    "\n",
    "\n",
    "while True:\n",
    "    try:\n",
    "        user_input = input(User: )\n",
    "        if user_input.lower() in [quit, exit, q]:\n",
    "            print(Goodbye!)\n",
    "            break\n",
    "        stream_graph_updates(user_input)\n",
    "    except:\n",
    "        # fallback if input() is not available\n",
    "        user_input = What do you know about LangGraph?\n",
    "        print(User:  + user_input)\n",
    "        stream_graph_updates(user_input)\n",
    "        break"
   ]
  },
  {
   "cell_type": "markdown",
   "id": "8a8a5496",
   "metadata": {},
   "source": [
    "### Tool calling"
   ]
  },
  {
   "cell_type": "code",
   "execution_count": 31,
   "id": "b6e84ee5",
   "metadata": {},
   "outputs": [
    {
     "name": "stdout",
     "output_type": "stream",
     "text": [
      "['Dominos', 'Pizza Hut', \"Luigi's Pizzeria\"]\n"
     ]
    }
   ],
   "source": [
    "restaurants_data = {\n",
    "        \"Pizza\": [\"Dominos\", \"Pizza Hut\", \"Luigi's Pizzeria\"],\n",
    "        \"Burger\": [\"McDonald's\", \"Burger King\", \"Shake Shack\"],\n",
    "        \"Sushi\": [\"obu\", \"Sushi Samba\", \"Kura Sushi\"],\n",
    "        \"Pasta\": [\"Olive Garden\", \"Carrabba's\", \"Maggiano's\"],\n",
    "        \"Salad\": [\"Sweetgreen\", \"Chopt\", \"Saladworks\"],\n",
    "        \"Ice Cream\": [\"Baskin Robbins\", \"Ben & Jerry's\", \"Cold Stone Creamery\"]\n",
    "}\n",
    "\n",
    "print(restaurants_data[\"Pizza\"])"
   ]
  },
  {
   "cell_type": "code",
   "execution_count": 32,
   "id": "afda6c66",
   "metadata": {},
   "outputs": [],
   "source": [
    "from langchain_core.tools import tool\n",
    "\n",
    "@tool\n",
    "def restaurant_search_tool(dish_name: str) -> str:\n",
    "    \"\"\"Searches for restaurants serving the given dish and returns a list of restaurants or a message if not found.\"\"\"\n",
    "    print(f\"--- Tool: restaurant_search_tool called with dish: {dish_name} ---\")\n",
    "    # Simple case-insensitive search for the dish key\n",
    "    found_restaurants = []\n",
    "    for key_dish, restaurants_list in restaurants_data.items():\n",
    "        if dish_name.lower() in key_dish.lower():\n",
    "            found_restaurants.extend(restaurants_list)\n",
    "    \n",
    "    if found_restaurants:\n",
    "        # Remove duplicates if a dish name matches multiple keys (e.g. if data had 'Pizza' and 'Gourmet Pizza')\n",
    "        unique_restaurants = sorted(list(set(found_restaurants)))\n",
    "        return f\"The dish '{dish_name}' is available at: {', '.join(unique_restaurants)}.\"\n",
    "    else:\n",
    "        return f\"Sorry, I couldn't find any restaurants serving '{dish_name}'.\""
   ]
  },
  {
   "cell_type": "code",
   "execution_count": null,
   "id": "0b4ee71c",
   "metadata": {},
   "outputs": [],
   "source": [
    "class State(TypedDict):\n",
    "    messages: Annotated[list, add_messages]\n",
    "\n",
    "graph_builder = StateGraph(State)\n",
    "\n",
    "# 2. Bind the tool to the LLM\n",
    "# Ensure 'llm' is defined from the previous cell\n",
    "llm_with_tools = llm.bind_tools([restaurant_search_tool])"
   ]
  },
  {
   "cell_type": "code",
   "execution_count": 34,
   "id": "d0560bbc",
   "metadata": {},
   "outputs": [
    {
     "data": {
      "text/plain": [
       "<langgraph.graph.state.StateGraph at 0x1c8cccc3e20>"
      ]
     },
     "execution_count": 34,
     "metadata": {},
     "output_type": "execute_result"
    }
   ],
   "source": [
    "def chatbot(state: State):\n",
    "    return {\"messages\": [llm_with_tools.invoke(state[\"messages\"])]}\n",
    "\n",
    "graph_builder.add_node(\"chatbot\", chatbot)"
   ]
  },
  {
   "cell_type": "code",
   "execution_count": null,
   "id": "741876b7",
   "metadata": {},
   "outputs": [],
   "source": [
    "from langgraph.prebuilt import ToolNode\n",
    "tool_node = ToolNode(tools=[restaurant_search_tool])"
   ]
  },
  {
   "cell_type": "code",
   "execution_count": 36,
   "id": "0baace68",
   "metadata": {},
   "outputs": [
    {
     "data": {
      "text/plain": [
       "<langgraph.graph.state.StateGraph at 0x1c8cccc3e20>"
      ]
     },
     "execution_count": 36,
     "metadata": {},
     "output_type": "execute_result"
    }
   ],
   "source": [
    "graph_builder.add_node(\"tools\", tool_node)"
   ]
  },
  {
   "cell_type": "code",
   "execution_count": 37,
   "id": "4f30a95c",
   "metadata": {},
   "outputs": [],
   "source": [
    "from langgraph.graph import StateGraph, START, END\n",
    "\n",
    "\n",
    "def route_tools(\n",
    "    state: State,\n",
    "):\n",
    "    \"\"\"\n",
    "    Use in the conditional_edge to route to the ToolNode if the last message\n",
    "    has tool calls. Otherwise, route to the end.\n",
    "    \"\"\"\n",
    "    if isinstance(state, list):\n",
    "        ai_message = state[-1]\n",
    "    elif messages := state.get(\"messages\", []):\n",
    "        ai_message = messages[-1]\n",
    "    else:\n",
    "        raise ValueError(f\"No messages found in input state to tool_edge: {state}\")\n",
    "    if hasattr(ai_message, \"tool_calls\") and len(ai_message.tool_calls) > 0:\n",
    "        return \"tools\"\n",
    "    return END\n",
    "\n",
    "\n",
    "# The `tools_condition` function returns \"tools\" if the chatbot asks to use a tool, and \"END\" if\n",
    "# it is fine directly responding. This conditional routing defines the main agent loop.\n",
    "graph_builder.add_conditional_edges(\n",
    "    \"chatbot\",\n",
    "    route_tools,\n",
    "    # The following dictionary lets you tell the graph to interpret the condition's outputs as a specific node\n",
    "    # It defaults to the identity function, but if you\n",
    "    # want to use a node named something else apart from \"tools\",\n",
    "    # You can update the value of the dictionary to something else\n",
    "    # e.g., \"tools\": \"my_tools\"\n",
    "    {\"tools\": \"tools\", END: END},\n",
    ")\n",
    "# Any time a tool is called, we return to the chatbot to decide the next step\n",
    "graph_builder.add_edge(\"tools\", \"chatbot\")\n",
    "graph_builder.add_edge(START, \"chatbot\")\n",
    "graph = graph_builder.compile()"
   ]
  },
  {
   "cell_type": "code",
   "execution_count": 38,
   "id": "287c67af",
   "metadata": {},
   "outputs": [
    {
     "data": {
      "image/png": "[encoded data removed]",
      "text/plain": [
       "<IPython.core.display.Image object>"
      ]
     },
     "metadata": {},
     "output_type": "display_data"
    }
   ],
   "source": [
    "from IPython.display import Image, display\n",
    "\n",
    "try:\n",
    "    display(Image(graph.get_graph().draw_mermaid_png()))\n",
    "except Exception:\n",
    "    # This requires some extra dependencies and is optional\n",
    "    pass"
   ]
  },
  {
   "cell_type": "code",
   "execution_count": 39,
   "id": "d88f224b",
   "metadata": {},
   "outputs": [
    {
     "name": "stdout",
     "output_type": "stream",
     "text": [
      "User: hello\n",
      "Assistant: Hello! How can I help you today?\n",
      "User: I want to eat pizza\n",
      "Assistant: \n",
      "--- Tool: restaurant_search_tool called with dish: pizza ---\n",
      "Assistant: The dish 'pizza' is available at: Dominos, Luigi's Pizzeria, Pizza Hut.\n",
      "Assistant: OK. I see that pizza is available at Dominos, Luigi's Pizzeria, and Pizza Hut.\n",
      "User: q\n",
      "Goodbye!\n"
     ]
    }
   ],
   "source": [
    "def stream_graph_updates(user_input: str):\n",
    "    for event in graph.stream({\"messages\": [{\"role\": \"user\", \"content\": user_input}]}):\n",
    "        for value in event.values():\n",
    "            print(\"Assistant:\", value[\"messages\"][-1].content)\n",
    "\n",
    "while True:\n",
    "    try:\n",
    "        user_input = input(\"User: \")\n",
    "        print(\"User:\", user_input)\n",
    "        \n",
    "        if user_input.lower() in [\"quit\", \"exit\", \"q\"]:\n",
    "            print(\"Goodbye!\")\n",
    "            break\n",
    "\n",
    "        stream_graph_updates(user_input)\n",
    "    except:\n",
    "        # fallback if input() is not available\n",
    "        user_input = \"What do you know about LangGraph?\"\n",
    "        print(\"User: \" + user_input)\n",
    "        stream_graph_updates(user_input)\n",
    "        break"
   ]
  },
  {
   "cell_type": "markdown",
   "id": "63d514c1",
   "metadata": {},
   "source": [
    "### Using 2 Tools"
   ]
  },
  {
   "cell_type": "code",
   "execution_count": 53,
   "id": "62abe1e9",
   "metadata": {},
   "outputs": [
    {
     "name": "stdout",
     "output_type": "stream",
     "text": [
      "['Dominos', 'Pizza Hut', \"Luigi's Pizzeria\"]\n"
     ]
    }
   ],
   "source": [
    "restaurants_data = {\n",
    "        \"Pizza\": [\"Dominos\", \"Pizza Hut\", \"Luigi's Pizzeria\"],\n",
    "        \"Burger\": [\"McDonald's\", \"Burger King\", \"Shake Shack\"],\n",
    "        \"Sushi\": [\"obu\", \"Sushi Samba\", \"Kura Sushi\"],\n",
    "        \"Pasta\": [\"Olive Garden\", \"Carrabba's\", \"Maggiano's\"],\n",
    "        \"Salad\": [\"Sweetgreen\", \"Chopt\", \"Saladworks\"],\n",
    "        \"Ice Cream\": [\"Baskin Robbins\", \"Ben & Jerry's\", \"Cold Stone Creamery\"]\n",
    "}\n",
    "\n",
    "print(restaurants_data[\"Pizza\"])"
   ]
  },
  {
   "cell_type": "code",
   "execution_count": 54,
   "id": "8af6bc8e",
   "metadata": {},
   "outputs": [],
   "source": [
    "from langchain_core.tools import tool\n",
    "\n",
    "@tool\n",
    "def restaurant_search_tool(dish_name: str) -> str:\n",
    "    \"\"\"Searches for restaurants serving the given dish and returns a list of restaurants or a message if not found.\"\"\"\n",
    "    print(f\"--- Tool: restaurant_search_tool called with dish: {dish_name} ---\")\n",
    "    # Simple case-insensitive search for the dish key\n",
    "    found_restaurants = []\n",
    "    for key_dish, restaurants_list in restaurants_data.items():\n",
    "        if dish_name.lower() in key_dish.lower():\n",
    "            found_restaurants.extend(restaurants_list)\n",
    "    \n",
    "    if found_restaurants:\n",
    "        # Remove duplicates if a dish name matches multiple keys (e.g. if data had 'Pizza' and 'Gourmet Pizza')\n",
    "        unique_restaurants = sorted(list(set(found_restaurants)))\n",
    "        return f\"The dish '{dish_name}' is available at: {', '.join(unique_restaurants)}.\"\n",
    "    else:\n",
    "        return f\"Sorry, I couldn't find any restaurants serving '{dish_name}'.\""
   ]
  },
  {
   "cell_type": "code",
   "execution_count": 55,
   "id": "1cb9ce80",
   "metadata": {},
   "outputs": [],
   "source": [
    "import requests\n",
    "\n",
    "@tool\n",
    "def get_order_details_from_api(restaurant_name: str, dish_name: str) -> dict:\n",
    "    \"\"\"\n",
    "    Calls the restaurant order API and returns the order details.\n",
    "\n",
    "    Args:\n",
    "        restaurant_name: The name of the restaurant.\n",
    "        dish_name: The name of the dish ordered.\n",
    "\n",
    "    Returns:\n",
    "        A dictionary containing the order details, or None if an error occurs.\n",
    "    \"\"\"\n",
    "    print(f\"--- Tool: get_order_details_from_api called with restaurant_name: {restaurant_name} and dish_name: {dish_name}---\")\n",
    "    url = f\"http://127.0.0.1:8000/orders/{restaurant_name}\"\n",
    "    params = {\"dish_name\": dish_name}\n",
    "\n",
    "    try:\n",
    "        response = requests.get(url, params=params)\n",
    "        response.raise_for_status()  # Raise HTTPError for bad responses (4xx or 5xx)\n",
    "        return response.json()\n",
    "    except requests.exceptions.RequestException as e:\n",
    "        print(f\"Error calling the API: {e}\")\n",
    "        if response.status_code == 404:\n",
    "            print(f\"Restaurant or dish not found: {response.json().get('detail', 'Unknown error')}\")\n",
    "        return None"
   ]
  },
  {
   "cell_type": "code",
   "execution_count": 56,
   "id": "78ffafdf",
   "metadata": {},
   "outputs": [],
   "source": [
    "class State(TypedDict):\n",
    "    messages: Annotated[list, add_messages]\n",
    "\n",
    "graph_builder = StateGraph(State)\n",
    "\n",
    "# 2. Bind the tool to the LLM\n",
    "# Ensure 'llm' is defined from the previous cell\n",
    "llm_with_tools = llm.bind_tools([restaurant_search_tool,get_order_details_from_api])"
   ]
  },
  {
   "cell_type": "code",
   "execution_count": 57,
   "id": "852592e1",
   "metadata": {},
   "outputs": [
    {
     "data": {
      "text/plain": [
       "<langgraph.graph.state.StateGraph at 0x1c8ccce9030>"
      ]
     },
     "execution_count": 57,
     "metadata": {},
     "output_type": "execute_result"
    }
   ],
   "source": [
    "def chatbot(state: State):\n",
    "    return {\"messages\": [llm_with_tools.invoke(state[\"messages\"])]}\n",
    "\n",
    "graph_builder.add_node(\"chatbot\", chatbot)"
   ]
  },
  {
   "cell_type": "code",
   "execution_count": 58,
   "id": "ae777f22",
   "metadata": {},
   "outputs": [],
   "source": [
    "from langgraph.prebuilt import ToolNode\n",
    "tool_node = ToolNode(tools=[restaurant_search_tool,get_order_details_from_api])"
   ]
  },
  {
   "cell_type": "code",
   "execution_count": 59,
   "id": "09516d18",
   "metadata": {},
   "outputs": [
    {
     "data": {
      "text/plain": [
       "<langgraph.graph.state.StateGraph at 0x1c8ccce9030>"
      ]
     },
     "execution_count": 59,
     "metadata": {},
     "output_type": "execute_result"
    }
   ],
   "source": [
    "graph_builder.add_node(\"tools\", tool_node)"
   ]
  },
  {
   "cell_type": "code",
   "execution_count": 60,
   "id": "0db23e5b",
   "metadata": {},
   "outputs": [],
   "source": [
    "from langgraph.graph import StateGraph, START, END\n",
    "\n",
    "\n",
    "def route_tools(\n",
    "    state: State,\n",
    "):\n",
    "    \"\"\"\n",
    "    Use in the conditional_edge to route to the ToolNode if the last message\n",
    "    has tool calls. Otherwise, route to the end.\n",
    "    \"\"\"\n",
    "    if isinstance(state, list):\n",
    "        ai_message = state[-1]\n",
    "    elif messages := state.get(\"messages\", []):\n",
    "        ai_message = messages[-1]\n",
    "    else:\n",
    "        raise ValueError(f\"No messages found in input state to tool_edge: {state}\")\n",
    "    if hasattr(ai_message, \"tool_calls\") and len(ai_message.tool_calls) > 0:\n",
    "        return \"tools\"\n",
    "    return END\n",
    "\n",
    "\n",
    "# The `tools_condition` function returns \"tools\" if the chatbot asks to use a tool, and \"END\" if\n",
    "# it is fine directly responding. This conditional routing defines the main agent loop.\n",
    "graph_builder.add_conditional_edges(\n",
    "    \"chatbot\",\n",
    "    route_tools,\n",
    "    # The following dictionary lets you tell the graph to interpret the condition's outputs as a specific node\n",
    "    # It defaults to the identity function, but if you\n",
    "    # want to use a node named something else apart from \"tools\",\n",
    "    # You can update the value of the dictionary to something else\n",
    "    # e.g., \"tools\": \"my_tools\"\n",
    "    {\"tools\": \"tools\", END: END},\n",
    ")\n",
    "# Any time a tool is called, we return to the chatbot to decide the next step\n",
    "graph_builder.add_edge(\"tools\", \"chatbot\")\n",
    "graph_builder.add_edge(START, \"chatbot\")\n",
    "graph = graph_builder.compile()"
   ]
  },
  {
   "cell_type": "code",
   "execution_count": 61,
   "id": "f1a601d0",
   "metadata": {},
   "outputs": [
    {
     "data": {
      "image/png": "[encoded data removed]",
      "text/plain": [
       "<IPython.core.display.Image object>"
      ]
     },
     "metadata": {},
     "output_type": "display_data"
    }
   ],
   "source": [
    "from IPython.display import Image, display\n",
    "\n",
    "try:\n",
    "    display(Image(graph.get_graph().draw_mermaid_png()))\n",
    "except Exception:\n",
    "    # This requires some extra dependencies and is optional\n",
    "    pass"
   ]
  },
  {
   "cell_type": "code",
   "execution_count": 63,
   "id": "0a04af69",
   "metadata": {},
   "outputs": [
    {
     "name": "stdout",
     "output_type": "stream",
     "text": [
      "User: hello\n",
      "Assistant: Hello! How can I help you today?\n",
      "User: I want to eat pizza\n",
      "Assistant: \n",
      "--- Tool: restaurant_search_tool called with dish: pizza ---\n",
      "Assistant: The dish 'pizza' is available at: Dominos, Luigi's Pizzeria, Pizza Hut.\n",
      "Assistant: OK. pizza is available at Dominos, Luigi's Pizzeria, and Pizza Hut. Which restaurant would you like to order from?\n",
      "User: I want to order pizza from Dominos\n",
      "Assistant: \n",
      "--- Tool: get_order_details_from_api called with restaurant_name: Dominos and dish_name: pizza---\n",
      "Assistant: {\"order_id\": \"e2e0c6ad-c36a-49a0-b17c-274747efea40\", \"restaurant_name\": \"Dominos\", \"items\": [\"pizza\"], \"total_amount\": 5.08, \"currency\": \"USD\", \"ordered_at\": \"2025-05-14T18:41:43.565516\", \"estimated_arrival_time\": \"2025-05-14T19:21:43.565516\", \"payment_mode\": \"Debit Card\", \"status\": \"Order Placed\", \"delivery_address\": \"123 Main St, Anytown, USA\", \"customer_notes\": \"Call upon arrival.\"}\n",
      "Assistant: OK. I have placed an order for pizza from Dominos. The order details are:  Order ID: e2e0c6ad-c36a-49a0-b17c-274747efea40, items: ['pizza'], ordered at: 2025-05-14T18:41:43.565516, customer notes: Call upon arrival., delivery address: 123 Main St, Anytown, USA, estimated arrival time: 2025-05-14T19:21:43.565516, payment mode: Debit Card, total amount: 5.08 USD.\n",
      "User: thank you\n",
      "Assistant: How can I help you today?\n",
      "User: q\n",
      "Goodbye!\n"
     ]
    }
   ],
   "source": [
    "def stream_graph_updates(user_input: str):\n",
    "    for event in graph.stream({\"messages\": [{\"role\": \"user\", \"content\": user_input}]}):\n",
    "        for value in event.values():\n",
    "            print(\"Assistant:\", value[\"messages\"][-1].content)\n",
    "\n",
    "while True:\n",
    "    try:\n",
    "        user_input = input(\"User: \")\n",
    "        print(\"User:\", user_input)\n",
    "        \n",
    "        if user_input.lower() in [\"quit\", \"exit\", \"q\"]:\n",
    "            print(\"Goodbye!\")\n",
    "            break\n",
    "\n",
    "        stream_graph_updates(user_input)\n",
    "    except:\n",
    "        # fallback if input() is not available\n",
    "        user_input = \"What do you know about LangGraph?\"\n",
    "        print(\"User: \" + user_input)\n",
    "        stream_graph_updates(user_input)\n",
    "        break"
   ]
  }
 ],
 "metadata": {
  "kernelspec": {
   "display_name": "venv_agent_1",
   "language": "python",
   "name": "python3"
  },
  "language_info": {
   "codemirror_mode": {
    "name": "ipython",
    "version": 3
   },
   "file_extension": ".py",
   "mimetype": "text/x-python",
   "name": "python",
   "nbconvert_exporter": "python",
   "pygments_lexer": "ipython3",
   "version": "3.10.0"
  }
 },
 "nbformat": 4,
 "nbformat_minor": 5
}
